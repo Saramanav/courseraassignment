{
 "cells": [
  {
   "cell_type": "markdown",
   "id": "7f844eec-82fb-4fcd-80b6-694a041d4f31",
   "metadata": {},
   "source": [
    "\n",
    "<h1>Data Science Tools and Ecosystem</h1>"
   ]
  },
  {
   "cell_type": "markdown",
   "id": "3b4cd4cd-c333-4891-bf53-031ab6cb6d4d",
   "metadata": {},
   "source": [
    "<p>In this notebook, Data Science Tools and Ecosystem are summarized</p>"
   ]
  },
  {
   "cell_type": "markdown",
   "id": "440f7b4f-51ed-4cae-b71e-df9d7e86af6b",
   "metadata": {},
   "source": [
    "<p>Some of the popular languages that Data Scientists use are:</p>\n",
    "<ol>\n",
    "  <li>python</li>\n",
    "  <li>R</li>\n",
    "  <li>SQL</li>\n",
    "  <li>Julia</li>\n",
    "</ol>\n"
   ]
  },
  {
   "attachments": {},
   "cell_type": "markdown",
   "id": "a7e562d7-c61e-45a3-bf89-6709b8de41a2",
   "metadata": {},
   "source": [
    "<p>Some of the commonly used libraries used by Data Scientists include</p>\n",
    "\n",
    "<ol>\n",
    "  <li>Pandas</li>\n",
    "  <li>ggplot2</li>\n",
    "  <li>MySQL</li>\n",
    "  <li>Apache Spark</li>\n",
    "</ol>"
   ]
  },
  {
   "cell_type": "markdown",
   "id": "54eefb6e-a4f2-44f1-ad66-6482a4f78855",
   "metadata": {},
   "source": [
    "|Data Science Tools|\n",
    "|------------------|\n",
    "|Jupyter Notebooks |\n",
    "|RStudio           |\n",
    "|Apache Zeppelin   |\n"
   ]
  },
  {
   "cell_type": "markdown",
   "id": "00ca0440-d07f-4712-ba9b-c77725982175",
   "metadata": {},
   "source": [
    "<h3>Below are a few examples of evaluating arithmatic expressions in python</h3>"
   ]
  },
  {
   "cell_type": "code",
   "execution_count": 4,
   "id": "f4d3f129-a24c-4bfd-9f2c-424206237bb6",
   "metadata": {},
   "outputs": [
    {
     "name": "stdout",
     "output_type": "stream",
     "text": [
      "17\n"
     ]
    }
   ],
   "source": [
    "a=3\n",
    "b=5\n",
    "c=a*b+2\n",
    "print(c)"
   ]
  },
  {
   "cell_type": "code",
   "execution_count": 5,
   "id": "bb95d459-9473-4e11-a733-a15e7553797c",
   "metadata": {},
   "outputs": [
    {
     "name": "stdout",
     "output_type": "stream",
     "text": [
      "3.3333333333333335\n"
     ]
    }
   ],
   "source": [
    "minutes = 200\n",
    "hours = minutes / 60\n",
    "print(hours)"
   ]
  },
  {
   "cell_type": "markdown",
   "id": "b3cc2673-78dc-4234-869f-3787c2afdb61",
   "metadata": {},
   "source": [
    "<p>Some of the key take aways from the course</p>"
   ]
  },
  {
   "cell_type": "markdown",
   "id": "a5706cc7-ca56-45ae-80a7-de72177b2020",
   "metadata": {},
   "source": [
    "<strong>Objectives</strong>.\n",
    "<p>List popular languages for Data Science</p>\n",
    "<ul>\n",
    "  <li>Python</li>\n",
    "  <li>R</li>\n",
    "  <li>SQL</li>\n",
    "  <li>Java</li>\n",
    "</ul>"
   ]
  },
  {
   "cell_type": "markdown",
   "id": "90ec00a7-c32f-4449-905b-fd4c65f2ceec",
   "metadata": {},
   "source": [
    "<h2>Author</h2>\n",
    "<p>Saravanan ma</p>"
   ]
  }
 ],
 "metadata": {
  "kernelspec": {
   "display_name": "anaconda-panel-2023.05-py310",
   "language": "python",
   "name": "conda-env-anaconda-panel-2023.05-py310-py"
  },
  "language_info": {
   "codemirror_mode": {
    "name": "ipython",
    "version": 3
   },
   "file_extension": ".py",
   "mimetype": "text/x-python",
   "name": "python",
   "nbconvert_exporter": "python",
   "pygments_lexer": "ipython3",
   "version": "3.11.5"
  }
 },
 "nbformat": 4,
 "nbformat_minor": 5
}
